{
 "cells": [
  {
   "cell_type": "code",
   "execution_count": 58,
   "id": "dbe380ce-9c5f-4889-9f52-7106ae11ccc4",
   "metadata": {},
   "outputs": [],
   "source": [
    "import numpy as np\n",
    "import pandas as pd\n",
    "import seaborn as sns\n",
    "import matplotlib.pyplot as plt\n",
    "import requests as req\n",
    "import time\n",
    "import csv\n",
    "%matplotlib inline"
   ]
  },
  {
   "cell_type": "code",
   "execution_count": 2,
   "id": "5a530549-de01-4900-935d-ec62373d8b3a",
   "metadata": {},
   "outputs": [],
   "source": [
    "ISS_loc = []\n",
    "count = 0\n",
    "while count <=120:\n",
    "    response = req.get(\"http://api.open-notify.org/iss-now.json\")\n",
    "    status = response.status_code\n",
    "    if status != 200:\n",
    "        print(f'Error improper response code. Code is {status}')\n",
    "        break\n",
    "    else:\n",
    "        resp = response.json()\n",
    "        ISS_loc.append(resp)\n",
    "        time.sleep(10)\n",
    "        count = count + 1"
   ]
  },
  {
   "cell_type": "code",
   "execution_count": 5,
   "id": "6cfa3a18-bef2-4c3f-b982-bbc6fac65109",
   "metadata": {},
   "outputs": [
    {
     "data": {
      "text/plain": [
       "[{'iss_position': {'latitude': '-42.0581', 'longitude': '-13.7820'},\n",
       "  'timestamp': 1658068485,\n",
       "  'message': 'success'},\n",
       " {'iss_position': {'latitude': '-41.6833', 'longitude': '-13.0664'},\n",
       "  'timestamp': 1658068496,\n",
       "  'message': 'success'},\n",
       " {'iss_position': {'latitude': '-41.3034', 'longitude': '-12.3596'},\n",
       "  'timestamp': 1658068506,\n",
       "  'message': 'success'},\n",
       " {'iss_position': {'latitude': '-40.9188', 'longitude': '-11.6615'},\n",
       "  'timestamp': 1658068517,\n",
       "  'message': 'success'},\n",
       " {'iss_position': {'latitude': '-40.5295', 'longitude': '-10.9721'},\n",
       "  'timestamp': 1658068527,\n",
       "  'message': 'success'}]"
      ]
     },
     "execution_count": 5,
     "metadata": {},
     "output_type": "execute_result"
    }
   ],
   "source": [
    "ISS_loc[:5]"
   ]
  },
  {
   "cell_type": "code",
   "execution_count": 48,
   "id": "1d2b3117-ec34-4475-9796-07fcae9b920e",
   "metadata": {},
   "outputs": [],
   "source": [
    "ISS_dict={'latitude': None, 'longitude': None, 'timestamp': None}\n",
    "lat_list = []\n",
    "long_list = []\n",
    "time_list = []\n",
    "\n",
    "for i in range(0,len(ISS_loc)):\n",
    "    lat_list.append(ISS_loc[i]['iss_position']['latitude'])\n",
    "    long_list.append(ISS_loc[i]['iss_position']['longitude'])\n",
    "    time_list.append(ISS_loc[i]['timestamp'])\n",
    "\n",
    "ISS_dict['latitude'] = lat_list\n",
    "ISS_dict['longitude'] = long_list\n",
    "ISS_dict['timestamp'] = time_list\n",
    "\n",
    "ISS_df = pd.DataFrame.from_dict(ISS_dict)"
   ]
  },
  {
   "cell_type": "code",
   "execution_count": 49,
   "id": "1bbddf7e-a9c2-4e65-b478-8ab5b9d47a4f",
   "metadata": {},
   "outputs": [
    {
     "data": {
      "text/html": [
       "<div>\n",
       "<style scoped>\n",
       "    .dataframe tbody tr th:only-of-type {\n",
       "        vertical-align: middle;\n",
       "    }\n",
       "\n",
       "    .dataframe tbody tr th {\n",
       "        vertical-align: top;\n",
       "    }\n",
       "\n",
       "    .dataframe thead th {\n",
       "        text-align: right;\n",
       "    }\n",
       "</style>\n",
       "<table border=\"1\" class=\"dataframe\">\n",
       "  <thead>\n",
       "    <tr style=\"text-align: right;\">\n",
       "      <th></th>\n",
       "      <th>latitude</th>\n",
       "      <th>longitude</th>\n",
       "      <th>timestamp</th>\n",
       "    </tr>\n",
       "  </thead>\n",
       "  <tbody>\n",
       "    <tr>\n",
       "      <th>0</th>\n",
       "      <td>-42.0581</td>\n",
       "      <td>-13.7820</td>\n",
       "      <td>1658068485</td>\n",
       "    </tr>\n",
       "    <tr>\n",
       "      <th>1</th>\n",
       "      <td>-41.6833</td>\n",
       "      <td>-13.0664</td>\n",
       "      <td>1658068496</td>\n",
       "    </tr>\n",
       "    <tr>\n",
       "      <th>2</th>\n",
       "      <td>-41.3034</td>\n",
       "      <td>-12.3596</td>\n",
       "      <td>1658068506</td>\n",
       "    </tr>\n",
       "    <tr>\n",
       "      <th>3</th>\n",
       "      <td>-40.9188</td>\n",
       "      <td>-11.6615</td>\n",
       "      <td>1658068517</td>\n",
       "    </tr>\n",
       "    <tr>\n",
       "      <th>4</th>\n",
       "      <td>-40.5295</td>\n",
       "      <td>-10.9721</td>\n",
       "      <td>1658068527</td>\n",
       "    </tr>\n",
       "  </tbody>\n",
       "</table>\n",
       "</div>"
      ],
      "text/plain": [
       "   latitude longitude   timestamp\n",
       "0  -42.0581  -13.7820  1658068485\n",
       "1  -41.6833  -13.0664  1658068496\n",
       "2  -41.3034  -12.3596  1658068506\n",
       "3  -40.9188  -11.6615  1658068517\n",
       "4  -40.5295  -10.9721  1658068527"
      ]
     },
     "execution_count": 49,
     "metadata": {},
     "output_type": "execute_result"
    }
   ],
   "source": [
    "ISS_df.head()"
   ]
  },
  {
   "cell_type": "code",
   "execution_count": 51,
   "id": "a7818d0b-055e-4d66-bd7c-b12775d42be1",
   "metadata": {},
   "outputs": [],
   "source": [
    "ISS_df['latitude'] = ISS_df['latitude'].astype(float)\n",
    "ISS_df['longitude'] = ISS_df['longitude'].astype(float)\n",
    "ISS_df['timestamp'] = ISS_df['timestamp'].astype(float)\n",
    "ISS_df['coordinates'] = ISS_df[['longitude', 'latitude']].values.tolist()"
   ]
  },
  {
   "cell_type": "code",
   "execution_count": 12,
   "id": "22260b0c-209d-4512-b38c-0fb8de3c4ee9",
   "metadata": {},
   "outputs": [
    {
     "data": {
      "text/html": [
       "<div>\n",
       "<style scoped>\n",
       "    .dataframe tbody tr th:only-of-type {\n",
       "        vertical-align: middle;\n",
       "    }\n",
       "\n",
       "    .dataframe tbody tr th {\n",
       "        vertical-align: top;\n",
       "    }\n",
       "\n",
       "    .dataframe thead th {\n",
       "        text-align: right;\n",
       "    }\n",
       "</style>\n",
       "<table border=\"1\" class=\"dataframe\">\n",
       "  <thead>\n",
       "    <tr style=\"text-align: right;\">\n",
       "      <th></th>\n",
       "      <th>latitude</th>\n",
       "      <th>longitude</th>\n",
       "      <th>timestamp</th>\n",
       "      <th>coordinates</th>\n",
       "    </tr>\n",
       "  </thead>\n",
       "  <tbody>\n",
       "    <tr>\n",
       "      <th>0</th>\n",
       "      <td>-42.0581</td>\n",
       "      <td>-13.7820</td>\n",
       "      <td>1.658068e+09</td>\n",
       "      <td>[-13.782, -42.0581]</td>\n",
       "    </tr>\n",
       "    <tr>\n",
       "      <th>1</th>\n",
       "      <td>-41.6833</td>\n",
       "      <td>-13.0664</td>\n",
       "      <td>1.658068e+09</td>\n",
       "      <td>[-13.0664, -41.6833]</td>\n",
       "    </tr>\n",
       "    <tr>\n",
       "      <th>2</th>\n",
       "      <td>-41.3034</td>\n",
       "      <td>-12.3596</td>\n",
       "      <td>1.658069e+09</td>\n",
       "      <td>[-12.3596, -41.3034]</td>\n",
       "    </tr>\n",
       "    <tr>\n",
       "      <th>3</th>\n",
       "      <td>-40.9188</td>\n",
       "      <td>-11.6615</td>\n",
       "      <td>1.658069e+09</td>\n",
       "      <td>[-11.6615, -40.9188]</td>\n",
       "    </tr>\n",
       "    <tr>\n",
       "      <th>4</th>\n",
       "      <td>-40.5295</td>\n",
       "      <td>-10.9721</td>\n",
       "      <td>1.658069e+09</td>\n",
       "      <td>[-10.9721, -40.5295]</td>\n",
       "    </tr>\n",
       "  </tbody>\n",
       "</table>\n",
       "</div>"
      ],
      "text/plain": [
       "   latitude  longitude     timestamp           coordinates\n",
       "0  -42.0581   -13.7820  1.658068e+09   [-13.782, -42.0581]\n",
       "1  -41.6833   -13.0664  1.658068e+09  [-13.0664, -41.6833]\n",
       "2  -41.3034   -12.3596  1.658069e+09  [-12.3596, -41.3034]\n",
       "3  -40.9188   -11.6615  1.658069e+09  [-11.6615, -40.9188]\n",
       "4  -40.5295   -10.9721  1.658069e+09  [-10.9721, -40.5295]"
      ]
     },
     "execution_count": 12,
     "metadata": {},
     "output_type": "execute_result"
    }
   ],
   "source": [
    "ISS_df.head()"
   ]
  },
  {
   "cell_type": "code",
   "execution_count": 52,
   "id": "3cfb6525-6ba4-4c84-b5af-3a418362c789",
   "metadata": {},
   "outputs": [
    {
     "name": "stdout",
     "output_type": "stream",
     "text": [
      "<class 'pandas.core.frame.DataFrame'>\n"
     ]
    }
   ],
   "source": [
    "print(type(ISS_df))"
   ]
  },
  {
   "cell_type": "code",
   "execution_count": 53,
   "id": "2880d880-15fa-4a8a-a744-e783cc2790f1",
   "metadata": {},
   "outputs": [],
   "source": [
    "ISS_df.to_csv('ISS_df')"
   ]
  },
  {
   "cell_type": "code",
   "execution_count": 54,
   "id": "25156a61-bb7f-404b-8c80-9a7c00642660",
   "metadata": {},
   "outputs": [],
   "source": [
    "filename=\"ISS_df.csv\""
   ]
  },
  {
   "cell_type": "code",
   "execution_count": 55,
   "id": "d34962b2-9439-4dec-9e07-4a10942664bc",
   "metadata": {},
   "outputs": [],
   "source": [
    "df=pd.read_csv(\"ISS_df\")"
   ]
  },
  {
   "cell_type": "code",
   "execution_count": 56,
   "id": "b27e2ad5-2025-4015-bed4-f2ce291f3aa4",
   "metadata": {},
   "outputs": [
    {
     "data": {
      "text/html": [
       "<div>\n",
       "<style scoped>\n",
       "    .dataframe tbody tr th:only-of-type {\n",
       "        vertical-align: middle;\n",
       "    }\n",
       "\n",
       "    .dataframe tbody tr th {\n",
       "        vertical-align: top;\n",
       "    }\n",
       "\n",
       "    .dataframe thead th {\n",
       "        text-align: right;\n",
       "    }\n",
       "</style>\n",
       "<table border=\"1\" class=\"dataframe\">\n",
       "  <thead>\n",
       "    <tr style=\"text-align: right;\">\n",
       "      <th></th>\n",
       "      <th>Unnamed: 0</th>\n",
       "      <th>latitude</th>\n",
       "      <th>longitude</th>\n",
       "      <th>timestamp</th>\n",
       "      <th>coordinates</th>\n",
       "    </tr>\n",
       "  </thead>\n",
       "  <tbody>\n",
       "    <tr>\n",
       "      <th>0</th>\n",
       "      <td>0</td>\n",
       "      <td>-42.0581</td>\n",
       "      <td>-13.7820</td>\n",
       "      <td>1.658068e+09</td>\n",
       "      <td>[-13.782, -42.0581]</td>\n",
       "    </tr>\n",
       "    <tr>\n",
       "      <th>1</th>\n",
       "      <td>1</td>\n",
       "      <td>-41.6833</td>\n",
       "      <td>-13.0664</td>\n",
       "      <td>1.658068e+09</td>\n",
       "      <td>[-13.0664, -41.6833]</td>\n",
       "    </tr>\n",
       "    <tr>\n",
       "      <th>2</th>\n",
       "      <td>2</td>\n",
       "      <td>-41.3034</td>\n",
       "      <td>-12.3596</td>\n",
       "      <td>1.658069e+09</td>\n",
       "      <td>[-12.3596, -41.3034]</td>\n",
       "    </tr>\n",
       "    <tr>\n",
       "      <th>3</th>\n",
       "      <td>3</td>\n",
       "      <td>-40.9188</td>\n",
       "      <td>-11.6615</td>\n",
       "      <td>1.658069e+09</td>\n",
       "      <td>[-11.6615, -40.9188]</td>\n",
       "    </tr>\n",
       "    <tr>\n",
       "      <th>4</th>\n",
       "      <td>4</td>\n",
       "      <td>-40.5295</td>\n",
       "      <td>-10.9721</td>\n",
       "      <td>1.658069e+09</td>\n",
       "      <td>[-10.9721, -40.5295]</td>\n",
       "    </tr>\n",
       "  </tbody>\n",
       "</table>\n",
       "</div>"
      ],
      "text/plain": [
       "   Unnamed: 0  latitude  longitude     timestamp           coordinates\n",
       "0           0  -42.0581   -13.7820  1.658068e+09   [-13.782, -42.0581]\n",
       "1           1  -41.6833   -13.0664  1.658068e+09  [-13.0664, -41.6833]\n",
       "2           2  -41.3034   -12.3596  1.658069e+09  [-12.3596, -41.3034]\n",
       "3           3  -40.9188   -11.6615  1.658069e+09  [-11.6615, -40.9188]\n",
       "4           4  -40.5295   -10.9721  1.658069e+09  [-10.9721, -40.5295]"
      ]
     },
     "execution_count": 56,
     "metadata": {},
     "output_type": "execute_result"
    }
   ],
   "source": [
    "df.head()"
   ]
  },
  {
   "cell_type": "code",
   "execution_count": 57,
   "id": "318c0e03-0870-4a1f-8ed2-25ab80f2fb46",
   "metadata": {},
   "outputs": [
    {
     "data": {
      "image/png": "[encoded data removed]",
      "text/plain": [
       "<Figure size 720x504 with 1 Axes>"
      ]
     },
     "metadata": {
      "needs_background": "light"
     },
     "output_type": "display_data"
    }
   ],
   "source": [
    "reader = csv.reader('ISS_df')\n",
    "\n",
    "fig, axes = plt.subplots(figsize=(10,7))\n",
    "axes.set_xlabel('longitude')\n",
    "axes.set_ylabel('latitude')\n",
    "axes.set_title('Path of the International Space Station')\n",
    "\n",
    "columns = [\"longitude\", \"latitude\"]\n",
    "iss_df = pd.read_csv(\"ISS_df\", usecols=columns)\n",
    "plt.scatter(iss_df.longitude, iss_df.latitude)\n",
    "plt.show()\n"
   ]
  },
  {
   "cell_type": "code",
   "execution_count": null,
   "id": "bf3dc05f-2c24-429d-af72-d568def4a2f0",
   "metadata": {},
   "outputs": [],
   "source": []
  }
 ],
 "metadata": {
  "kernelspec": {
   "display_name": "Python 3 (ipykernel)",
   "language": "python",
   "name": "python3"
  },
  "language_info": {
   "codemirror_mode": {
    "name": "ipython",
    "version": 3
   },
   "file_extension": ".py",
   "mimetype": "text/x-python",
   "name": "python",
   "nbconvert_exporter": "python",
   "pygments_lexer": "ipython3",
   "version": "3.9.12"
  }
 },
 "nbformat": 4,
 "nbformat_minor": 5
}
